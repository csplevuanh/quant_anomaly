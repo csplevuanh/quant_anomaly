{
  "cells": [
    {
      "cell_type": "markdown",
      "metadata": {},
      "source": [
        "# RN\u2011F Quick Tour\n",
        "\n",
        "This notebook walks through quantizing a model, running RN\u2011F detection, and visualizing the ROC curve."
      ]
    },
    {
      "cell_type": "code",
      "execution_count": null,
      "metadata": {},
      "outputs": [],
      "source": [
        "from rnf_experiments.cli import quantize, detect\n",
        "\n",
        "# Quantize GPT2\u2011XS to 4\u2011bit\n",
        "quantize('gpt2-xs', bits=4)\n",
        "\n",
        "# Run detection (dummy demo)\n",
        "detect('gpt2-xs', detector='rnf')"
      ]
    }
  ],
  "metadata": {
    "kernelspec": {
      "display_name": "Python 3",
      "language": "python",
      "name": "python3"
    },
    "language_info": {
      "name": "python",
      "version": "3.10"
    }
  },
  "nbformat": 4,
  "nbformat_minor": 5
}